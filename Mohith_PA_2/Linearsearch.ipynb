{
 "cells": [
  {
   "cell_type": "markdown",
   "id": "2a61c1e1",
   "metadata": {},
   "source": [
    "git link:https://git-classes.mst.edu/mbm2b/db_pa_2"
   ]
  },
  {
   "cell_type": "code",
   "execution_count": 1,
   "id": "ecd0bc50",
   "metadata": {},
   "outputs": [
    {
     "name": "stdout",
     "output_type": "stream",
     "text": [
      "2022-11-02 23:06:04.650680\n",
      "\n",
      "Located in: C:/Users/mohit/OneDrive/Desktop/New folder(2)/sortedfile/file_sorted_8.csv\n",
      "Row: 53864\n",
      "['[38180, 223787]', '77737.0', '[364, 2633]', \"A humble young monk and a magical, shape-changing fox find themselves romantically drawn together. As their love blooms, the fox learns of a devilish plot by a group of demons and a Japanese emperor to steal the monk's life. One of the most popular and critically acclaimed graphic novels of all time, Neil Gaiman's award-winning masterpiece The Sandman set the standard for mature, lyrical fantasy in the modern comics era. Illustrated by an exemplary selection of the medium's most gifted artists, the series is a rich blend of modern and ancient mythology in which contemporary fiction, historical drama, and legend are seamlessly interwoven. In The Dream Hunters, legendary artist P. Craig Russell returns to the world of the Dreaming to adapt Neil Gaiman and artist Yoshitaka Amano's original illustrated novella into a mesmerizing new comics interpretation. Retelling Gaiman's celebrated story of a humble young monk and the magical fox who falls in love with him. Russell beautifully brings to life every aspect of the richly evocative world set down in this timeless fable of desire, sacrifice, and love that was never meant to be. OVERTURE\", '168.0', '259.0', '7.62', '', '30th Anniversary ed.', '', '1.0', '9781401294236', '', 'fe69ff7a3776ac320e66bc417db727d3', 'full/b/3/f/b3f35ab174a4486875014b30864dc77811241515.jpg', 'https://d1w7fb2mkkr3kw.cloudfront.net/assets/images/book/lrg/9781/4012/9781401294236.jpg', '', '', '1401294235', '9781401294236', 'en', '2019-09-24 00:00:00', '', '4.46', '10168.0', 'Sandman: Dream Hunters 30th Anniversary Edition', '/Sandman-Dream-Hunters-30th-Anniversary-Edition-Neil-Gaiman/9781401294236', '258.55']\n",
      "\n",
      "2022-11-02 23:06:17.842970\n"
     ]
    }
   ],
   "source": [
    "import pandas as pd\n",
    "import csv\n",
    "import os\n",
    "from datetime import date, datetime\n",
    "initTime = 0\n",
    "finalTime = 0\n",
    "def linear_search():\n",
    "    print(datetime.now())\n",
    "    Data = \"C:/Users/mohit/OneDrive/Desktop/New folder(2)/sortedfile/\"\n",
    "    toMerge = os.listdir(Data)\n",
    "    files_left = len(toMerge)\n",
    "    count = 1\n",
    "    notFound = True\n",
    "    while count < files_left and notFound == True:\n",
    "        file = Data + \"file_sorted_{0}.csv\".format(count)\n",
    "        csv_file = csv.reader(open(file, \"r\", encoding='utf8'), delimiter=\",\")\n",
    "        rowCount = 0\n",
    "        for row in csv_file:\n",
    "            rowCount += 1\n",
    "            if \"Sandman: Dream Hunters 30th Anniversary Edition\" == row[25]:\n",
    "                print('\\n' + \"Located in: \" + str(file))\n",
    "                print(\"Row: \" + str(rowCount))\n",
    "                print(str(row)  +'\\n')\n",
    "                notFound = False\n",
    "                print(datetime.now())\n",
    "        count += 1\n",
    "linear_search()"
   ]
  }
 ],
 "metadata": {
  "kernelspec": {
   "display_name": "Python 3",
   "language": "python",
   "name": "python3"
  },
  "language_info": {
   "codemirror_mode": {
    "name": "ipython",
    "version": 3
   },
   "file_extension": ".py",
   "mimetype": "text/x-python",
   "name": "python",
   "nbconvert_exporter": "python",
   "pygments_lexer": "ipython3",
   "version": "3.8.8"
  }
 },
 "nbformat": 4,
 "nbformat_minor": 5
}
