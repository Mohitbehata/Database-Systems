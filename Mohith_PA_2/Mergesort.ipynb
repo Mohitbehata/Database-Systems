{
 "cells": [
  {
   "cell_type": "markdown",
   "id": "4bfb7000",
   "metadata": {},
   "source": [
    "gitlink:https://git-classes.mst.edu/mbm2b/db_pa_2"
   ]
  },
  {
   "cell_type": "code",
   "execution_count": 1,
   "id": "91c5d2dd",
   "metadata": {},
   "outputs": [],
   "source": [
    "import os\n",
    "import pandas as pd\n",
    "import csv\n",
    "from collections import deque\n",
    "\n",
    "rootPath = 'C:/Users/mohit/OneDrive/Desktop/New folder(2)/'\n",
    "inputFileLambda = lambda count: f\"{rootPath}/file_{count}.csv\"\n",
    "outputFileLambda = lambda count: f\"{rootPath}/sortedfile/file_sorted_{count}.csv\"\n",
    "\n",
    "def split():\n",
    "    df = pd.read_csv('C:/Users/mohit/OneDrive/Desktop/dataset.csv')\n",
    "    split_dataframe(df, pathLambda=inputFileLambda, chunk_size = 100000)\n",
    "\n",
    "def split_dataframe(main, pathLambda, chunk_size = 100000): \n",
    "    chunks = list()\n",
    "    num_chunks = len(main) // chunk_size + 1\n",
    "    for i in range(num_chunks):\n",
    "        chunks.append(main[i*chunk_size:(i+1)*chunk_size])\n",
    "    count=1\n",
    "    for chunk in chunks:\n",
    "        name = pathLambda(count)\n",
    "        chunk.to_csv(name,index=False)\n",
    "        print(count)\n",
    "        count+=1  \n"
   ]
  },
  {
   "cell_type": "code",
   "execution_count": 2,
   "id": "547cde0e",
   "metadata": {},
   "outputs": [
    {
     "name": "stdout",
     "output_type": "stream",
     "text": [
      "1\n",
      "2\n",
      "3\n",
      "4\n",
      "5\n",
      "6\n",
      "7\n",
      "8\n",
      "9\n",
      "10\n",
      "11\n",
      "12\n"
     ]
    }
   ],
   "source": [
    "split()"
   ]
  },
  {
   "cell_type": "code",
   "execution_count": 3,
   "id": "a3029d7d",
   "metadata": {},
   "outputs": [],
   "source": [
    " def compare_strings(str1, str2):\n",
    "        if str1.isalpha() and str2.isalpha():\n",
    "            return str1 < str2\n",
    "        if str1.isalpha():\n",
    "            return True\n",
    "        if str2.isalpha():\n",
    "            return False\n",
    "        return str1 < str2\n",
    "TITLE_INDEX = 25\n",
    "def mergeSortArr(arr):\n",
    "    if len(arr) > 1:\n",
    "        mid = len(arr)//2 \n",
    "        L = arr[:mid]\n",
    "        R = arr[mid:]\n",
    "        mergeSortArr(L)\n",
    "        mergeSortArr(R)\n",
    "        i = j = k = 0\n",
    "        while i < len(L) and j < len(R):\n",
    "            compare_result = compare_strings(L[i][TITLE_INDEX],R[j][TITLE_INDEX])\n",
    "            if compare_result:\n",
    "                arr[k] = L[i]\n",
    "                i += 1\n",
    "            else:\n",
    "                arr[k] = R[j]\n",
    "                j += 1\n",
    "            k += 1\n",
    "        while i < len(L):\n",
    "            arr[k] = L[i]\n",
    "            i += 1\n",
    "            k += 1\n",
    "        while j < len(R):\n",
    "            arr[k] = R[j]\n",
    "            j += 1\n",
    "            k += 1"
   ]
  },
  {
   "cell_type": "code",
   "execution_count": 4,
   "id": "c04e6a06",
   "metadata": {},
   "outputs": [
    {
     "name": "stdout",
     "output_type": "stream",
     "text": [
      "1\n",
      "2\n",
      "3\n",
      "4\n",
      "5\n",
      "6\n",
      "7\n",
      "8\n",
      "9\n",
      "10\n",
      "11\n",
      "12\n"
     ]
    }
   ],
   "source": [
    "#path= 'C:/Users/mohit/OneDrive/Desktop/New folder(2)/'\n",
    "\n",
    "fileNamePrefix = \"file_\"\n",
    "\n",
    "filePaths = [ [f\"{rootPath}{fileNamePrefix}{i}.csv\",f\"{fileNamePrefix}{i}\"] for i in range(1,13)]\n",
    "\n",
    "# fileNames = [ file[1] for file in files ]\n",
    "\n",
    "tempFilePaths = [ [filePaths[i][0],filePaths[i][1],1] for i in range(0,len(filePaths)) ]\n",
    "\n",
    "queueFilePaths = deque(tempFilePaths)\n",
    "stage = 1\n",
    "columns=[\"authors\",\"bestsellers-rank\",\"categories\",\"description\",\"dimension-x\",\"dimension-y\",\"dimension-z\",\"edition\",\"edition-statement\",\"for-ages\",\"format\",\"id\",\"illustrations-note\",\"image-checksum\",\"image-path\",\"image-url\",\"imprint\",\"index-date\",\"isbn10\",\"isbn13\",\"lang\",\"publication-date\",\"publication-place\",\"rating-avg\",\"rating-count\",\"title\",\"url\",\"weight\"]\n",
    "while len(queueFilePaths) > 1:\n",
    "    filePath1,fileName1,fileStage1 = queueFilePaths.popleft()\n",
    "    filePath2,fileName2,fileStage2 = queueFilePaths.popleft()\n",
    "    maxFileStage = min([fileStage1,fileStage2])\n",
    "    df1 = pd.read_csv(filePath1)\n",
    "    df2 = pd.read_csv(filePath2)\n",
    "    arr = pd.concat([df1,df2]).values.tolist()\n",
    "    mergeSortArr(arr);\n",
    "    df = pd.DataFrame(arr, columns=columns)\n",
    "    if len(queueFilePaths) == 0:\n",
    "        os.remove(filePath1)\n",
    "        os.remove(filePath2)\n",
    "        split_dataframe(df, outputFileLambda, chunk_size = 100000)\n",
    "    else:\n",
    "        outputFileName = f\"{fileName1}_stage{maxFileStage+1}.csv\"\n",
    "        outputFilePath = f\"{rootPath}{outputFileName}\"\n",
    "        df.to_csv(outputFilePath,index=False)\n",
    "        os.remove(filePath1)\n",
    "        os.remove(filePath2)\n",
    "        queueFilePaths.append([outputFilePath, fileName1 ,maxFileStage+1])\n",
    "    \n",
    "   "
   ]
  }
 ],
 "metadata": {
  "kernelspec": {
   "display_name": "Python 3",
   "language": "python",
   "name": "python3"
  },
  "language_info": {
   "codemirror_mode": {
    "name": "ipython",
    "version": 3
   },
   "file_extension": ".py",
   "mimetype": "text/x-python",
   "name": "python",
   "nbconvert_exporter": "python",
   "pygments_lexer": "ipython3",
   "version": "3.8.8"
  }
 },
 "nbformat": 4,
 "nbformat_minor": 5
}
